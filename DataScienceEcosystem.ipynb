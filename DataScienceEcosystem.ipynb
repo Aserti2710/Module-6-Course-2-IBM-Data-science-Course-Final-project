{
 "cells": [
  {
   "cell_type": "markdown",
   "id": "d0e0045b-6182-4489-bdc8-bfcbec8845e1",
   "metadata": {},
   "source": [
    "# Data Science Tools and Ecosystems"
   ]
  },
  {
   "cell_type": "markdown",
   "id": "8b98eec8-4de6-4ee2-b230-5661c4bf5e42",
   "metadata": {},
   "source": [
    "In this notebook, Data Science Tools and Ecosystem are summarized."
   ]
  },
  {
   "cell_type": "markdown",
   "id": "765a3ab0-36a1-4518-bf84-82b0856544e5",
   "metadata": {},
   "source": [
    "**Objectives:**\n",
    "-List popular languages for Data Science\n",
    "-List some of the commonly used libraries used by Data Scientists\n",
    "-Use different types of headings in Markdown cells\n",
    "-Compute how many hours are 200 minutes"
   ]
  },
  {
   "cell_type": "markdown",
   "id": "f5eef9a8-3d92-4a89-8ca5-b0022ed32bf3",
   "metadata": {},
   "source": [
    "Some of the popular languages that Data Scientists use are:\n",
    "1. Python\n",
    "2. C++\n",
    "3. R\n",
    "4. Java"
   ]
  },
  {
   "cell_type": "markdown",
   "id": "5fa5fc39-5ecf-41c9-9220-ad61cd9ff255",
   "metadata": {
    "tags": []
   },
   "source": [
    "Some of the commonly used libraries used by Data Scientists include:\n",
    "1. Pandas\n",
    "2. NumPy\n",
    "3. TensorFlow\n",
    "4. PyTorch"
   ]
  },
  {
   "cell_type": "markdown",
   "id": "93a45948-6f42-481d-a54e-abfcdc8e80f7",
   "metadata": {
    "tags": []
   },
   "source": [
    "|Data Science Tools|\n",
    "|------------------|\n",
    "|Jupyter notebooks|\n",
    "|RStudio|\n",
    "|GitHub|"
   ]
  },
  {
   "cell_type": "markdown",
   "id": "185de90e-7c3f-457c-aa45-cfc181c2e205",
   "metadata": {},
   "source": [
    "### Below are a few examples of evaluating arithmetic expressions in Python"
   ]
  },
  {
   "cell_type": "code",
   "execution_count": 3,
   "id": "bf5776c2-c230-4027-b29c-f9c4c3120a47",
   "metadata": {
    "tags": []
   },
   "outputs": [
    {
     "data": {
      "text/plain": [
       "17"
      ]
     },
     "execution_count": 3,
     "metadata": {},
     "output_type": "execute_result"
    }
   ],
   "source": [
    "#This a simple arithmetic expression to mutiply then add integers\n",
    "(3*4)+5"
   ]
  },
  {
   "cell_type": "code",
   "execution_count": 8,
   "id": "df9c0bee-bf7c-4143-bef4-5bfba29ed044",
   "metadata": {
    "tags": []
   },
   "outputs": [
    {
     "data": {
      "text/plain": [
       "3.3333333333333335"
      ]
     },
     "execution_count": 8,
     "metadata": {},
     "output_type": "execute_result"
    }
   ],
   "source": [
    "#This will convert 200 minutes to hours by diving by 60\n",
    "200./60."
   ]
  },
  {
   "cell_type": "code",
   "execution_count": 9,
   "id": "e1a45787-9aa4-48b3-92a6-2b6bbd578060",
   "metadata": {
    "tags": []
   },
   "outputs": [],
   "source": [
    "#(This means 3 hours and 20 minutes)"
   ]
  },
  {
   "cell_type": "markdown",
   "id": "3c2d8cdf-7c0f-4928-8eae-ccd10569b673",
   "metadata": {},
   "source": [
    "## Author\n",
    "Guillem Juanico Rull"
   ]
  }
 ],
 "metadata": {
  "kernelspec": {
   "display_name": "Python",
   "language": "python",
   "name": "conda-env-python-py"
  },
  "language_info": {
   "codemirror_mode": {
    "name": "ipython",
    "version": 3
   },
   "file_extension": ".py",
   "mimetype": "text/x-python",
   "name": "python",
   "nbconvert_exporter": "python",
   "pygments_lexer": "ipython3",
   "version": "3.7.12"
  }
 },
 "nbformat": 4,
 "nbformat_minor": 5
}
